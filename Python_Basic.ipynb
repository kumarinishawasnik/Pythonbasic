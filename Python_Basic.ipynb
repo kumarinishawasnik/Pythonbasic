{
  "nbformat": 4,
  "nbformat_minor": 0,
  "metadata": {
    "colab": {
      "provenance": []
    },
    "kernelspec": {
      "name": "python3",
      "display_name": "Python 3"
    },
    "language_info": {
      "name": "python"
    }
  },
  "cells": [
    {
      "cell_type": "markdown",
      "source": [
        "# Python Basic\n"
      ],
      "metadata": {
        "id": "iOYuptPGzf11"
      }
    },
    {
      "cell_type": "markdown",
      "source": [
        "Question 1. What is Python, and why is it popular\n",
        "   - Python is a programming language that is popular because it is easy to learn, versatile, and can be used for many different applications.\n",
        "  - Why is Python popular?\n",
        "   - Easy to learn: Python has a simple syntax that makes it accessible to beginners.\n",
        "   - Versatile: Python can be used for many different applications, including - web development, data analysis, and machine learning.\n",
        "   - Efficient: Python is efficient and can increase development speed.\n",
        "   - Cost-effective: Python is cheaper to program with than many other languages, which can reduce the cost of starter projects.\n",
        "- Supports many platforms: Python can run on many different platforms and integrates well with other systems.\n",
        "- Has many libraries: Python has a large number of libraries and frameworks that can save time and effort during development.\n",
        "Supported by big companies: Companies like Google, Netflix, Uber, and Dropbox use Python for their innovations.\n",
        "- Readable code: Python uses indentation instead of parentheses, which makes the code easier to read.\n",
        "\n",
        "\n",
        "Question 2. What is an interpreter in Python\n",
        " - A Python interpreter is a program that reads and executes Python code. It translates Python code into bytecode, which is then executed by the Python Virtual Machine (PVM).\n",
        "\n",
        "Question 3. What are pre-defined keywords in Python\n",
        "   \n",
        "   -\tKeywords are reserved words in Python that have special meanings and cannot be used as identifiers (variable names, function names, etc.).\n",
        "   - Examples of keywords include if, else, while, for, def, class, import, try, except, return, True, False, None, etc.\n",
        "   -\tKeywords are case-sensitive and cannot be redefined or overridden within a Python program.\n",
        " \t- used for defining program structures like loops, conditional statements, functions, and data types\n",
        "\n",
        "Question 4.  Can keywords be used as variable names\n",
        "      - No, keywords cannot be used as variable names because they are reserved for defining the structure and syntax rules of a programming language.\n",
        "\n",
        "Question 5. What is mutability in Python  \n",
        "     - mutability is the ability to change the value or state of an\n",
        "       object after it has been created.\n",
        "\n",
        "Question 6. Why are lists mutable, but tuples are immutable  \n",
        "   -The main difference between tuples and lists is that tuples are immutable, meaning their contents cannot be changed after creation, while lists are mutable and can be modified. Additionally, tuples are more memory-efficient compared to lists. Tuples can't be changed after they're created, but lists can be modified.    \n",
        "\n",
        "Question 7. What is the difference between “==” and “is” operators in Python\n",
        " -  The == operator helps us compare the equality of objects. The is operator helps us check whether different variables point towards a similar object in the memory.\n",
        "\n",
        "Question 8. What are logical operators in Python\n",
        "   - Logical operators in Python are symbols or words that combine multiple conditions into a single boolean expression. The three types of logical operators in Python are:\n",
        "  - And: Returns True if both conditions are true, and False otherwise\n",
        "   - Or: Combines conditions\n",
        "  - Not: Reverses the truth value of its operand\n",
        "     \n",
        "Question 9. What is type casting in Python\n",
        "   - Type casting, also referred to as type conversion, is the process of changing one data type to another in Python.\n",
        "  - Python provides built-in functions for type casting, such as int(), float(), str(), list(), tuple(), dict(), etc.\n",
        "  - Type casting is often necessary for performing arithmetic operations, data manipulation, and input/output operations in Python programs\n",
        "\n",
        "Question 10.  What is the difference between implicit and explicit type casting\n",
        "  -  implicit type casting happens automatically, while explicit type casting is done manually by the programmer.\n",
        "     Explanation\n",
        "     - \tImplicit type casting\n",
        "Python automatically converts one data type to another to avoid errors or data loss. For example, when an integer and a float are added, Python automatically converts the integer to a float.\n",
        "     - \tExplicit type casting\n",
        "The programmer manually tells Python to change a variable's type. This is done using built-in functions like int(), float(), and str().\n",
        "\n",
        "Question 11. What is the purpose of conditional statements in Python\n",
        "\n",
        "   - \tConditionals in Python are used to execute code based on the evaluation of one or more conditions.\n",
        "   - Python supports conditional statements such as if, elif (else if), and else to control the flow of execution.\n",
        "   - Conditionals can be nested to handle multiple conditions and control different branches of execution based on the outcome of logical expressions.\n",
        "\n",
        "Question 12.  How does the elif statement work\n",
        "   - The “elif” keyword in Python, stands for “else if”. It can be used in conditional statements to check for multiple conditions. For example, if the first condition is false, it moves on to the next “elif” statement to check if that condition is true.\n",
        "\n",
        "Question 13. What is the difference between for and while loops\n",
        "  - Loops in Python are used to execute a block of code repeatedly until a specified condition is met. Python provides two types of loops:\n",
        "    - 1.\tfor loop – Iterates over a sequence (list, tuple, string, dictionary, etc.).\n",
        "    - 2.\twhile loop – Repeats a block of code as long as a condition is True.\n",
        "\n",
        "Question 14.  Describe a scenario where a while loop is more suitable than a for loop.\n",
        "\n",
        "   - In contrast to a 'for' loop, which is generally used when the number of iterations is known beforehand, a 'while' loop is ideal for situations where the number of iterations is not predetermined and depends on some dynamic condition.\n",
        "\n",
        "\n",
        "\n"
      ],
      "metadata": {
        "id": "lbgVbidHz2_G"
      }
    },
    {
      "cell_type": "markdown",
      "source": [
        "## Practical\n"
      ],
      "metadata": {
        "id": "xfeUw4b20tgZ"
      }
    },
    {
      "cell_type": "code",
      "source": [
        "# 1. Print \"Hello, World!\"\n",
        "print(\"Hello, World!\")"
      ],
      "metadata": {
        "colab": {
          "base_uri": "https://localhost:8080/"
        },
        "id": "J5WcPEhW0kzI",
        "outputId": "e01d7297-b170-43d3-fb8a-ca6410ab839e"
      },
      "execution_count": 2,
      "outputs": [
        {
          "output_type": "stream",
          "name": "stdout",
          "text": [
            "Hello, World!\n"
          ]
        }
      ]
    },
    {
      "cell_type": "code",
      "source": [
        "# 2. Display name and age\n",
        "name = \"Nisha\"\n",
        "age = 26  # Change accordingly\n",
        "print(f\"My name is {name} and I am {age} years old.\")"
      ],
      "metadata": {
        "colab": {
          "base_uri": "https://localhost:8080/"
        },
        "id": "y2A93Uu10k3I",
        "outputId": "b471a4cb-58a8-4df4-f0e1-1def69d5bef4"
      },
      "execution_count": 4,
      "outputs": [
        {
          "output_type": "stream",
          "name": "stdout",
          "text": [
            "My name is Nisha and I am 26 years old.\n"
          ]
        }
      ]
    },
    {
      "cell_type": "code",
      "source": [
        "# 3. Print all predefined keywords\n",
        "import keyword\n",
        "print(keyword.kwlist)"
      ],
      "metadata": {
        "colab": {
          "base_uri": "https://localhost:8080/"
        },
        "id": "1iqiFkSf0k5c",
        "outputId": "1b8ab50d-9450-4316-a463-d7ccfbadc798"
      },
      "execution_count": 5,
      "outputs": [
        {
          "output_type": "stream",
          "name": "stdout",
          "text": [
            "['False', 'None', 'True', 'and', 'as', 'assert', 'async', 'await', 'break', 'class', 'continue', 'def', 'del', 'elif', 'else', 'except', 'finally', 'for', 'from', 'global', 'if', 'import', 'in', 'is', 'lambda', 'nonlocal', 'not', 'or', 'pass', 'raise', 'return', 'try', 'while', 'with', 'yield']\n"
          ]
        }
      ]
    },
    {
      "cell_type": "code",
      "source": [
        "# 4. Check if a word is a Python keyword\n",
        "word = input(\"Enter a word: \")\n",
        "print(f\"{word} is a keyword: {keyword.iskeyword(word)}\")"
      ],
      "metadata": {
        "colab": {
          "base_uri": "https://localhost:8080/"
        },
        "id": "gqfG8RW80k9j",
        "outputId": "f67e156e-a97c-4663-8885-0a4475b65679"
      },
      "execution_count": 7,
      "outputs": [
        {
          "output_type": "stream",
          "name": "stdout",
          "text": [
            "Enter a word: as\n",
            "as is a keyword: True\n"
          ]
        }
      ]
    },
    {
      "cell_type": "code",
      "source": [
        "# 5. List vs Tuple immutability\n",
        "my_list = [1, 2, 3]\n",
        "my_tuple = (1, 2, 3)\n",
        "my_list[0] = 10  # Works\n",
        "try:\n",
        "    my_tuple[0] = 10  # Will raise an error\n",
        "except TypeError:\n",
        "    print(\"Tuples are immutable!\")"
      ],
      "metadata": {
        "colab": {
          "base_uri": "https://localhost:8080/"
        },
        "id": "k1XMMpOo2APD",
        "outputId": "bbe0a6da-7d9f-46fe-9f9b-b9bdc2a39e3c"
      },
      "execution_count": 10,
      "outputs": [
        {
          "output_type": "stream",
          "name": "stdout",
          "text": [
            "Tuples are immutable!\n"
          ]
        }
      ]
    },
    {
      "cell_type": "code",
      "source": [
        "# 6. Mutable vs Immutable arguments\n",
        "def modify_data(immutable, mutable):\n",
        "    immutable += 1\n",
        "    mutable.append(4)\n",
        "\n",
        "num = 5\n",
        "lst = [1, 2, 3]\n",
        "modify_data(num, lst)\n",
        "print(num)  # Unchanged (immutable)\n",
        "print(lst)  # Changed (mutable)"
      ],
      "metadata": {
        "colab": {
          "base_uri": "https://localhost:8080/"
        },
        "id": "fsYDcCTT2AzF",
        "outputId": "b7160ada-cd06-43a0-dc98-d81cbfb371f2"
      },
      "execution_count": 11,
      "outputs": [
        {
          "output_type": "stream",
          "name": "stdout",
          "text": [
            "5\n",
            "[1, 2, 3, 4]\n"
          ]
        }
      ]
    },
    {
      "cell_type": "code",
      "source": [
        "# 7. Logical operators\n",
        "a, b = True, False\n",
        "print(a and b, a or b, not a)"
      ],
      "metadata": {
        "colab": {
          "base_uri": "https://localhost:8080/"
        },
        "id": "Yb9RKqK42A3W",
        "outputId": "4c3e30e4-ef3f-4fd7-bfa4-e34416700903"
      },
      "execution_count": 12,
      "outputs": [
        {
          "output_type": "stream",
          "name": "stdout",
          "text": [
            "False True False\n"
          ]
        }
      ]
    },
    {
      "cell_type": "code",
      "source": [
        "# 8. Convert input types\n",
        "user_input = input(\"Enter a value: \")\n",
        "print(int(user_input), float(user_input), bool(user_input))"
      ],
      "metadata": {
        "colab": {
          "base_uri": "https://localhost:8080/"
        },
        "id": "4J139n_e0k_q",
        "outputId": "9dae8745-8a13-43de-f844-dc2e07f47dca"
      },
      "execution_count": 13,
      "outputs": [
        {
          "output_type": "stream",
          "name": "stdout",
          "text": [
            "Enter a value: 2\n",
            "2 2.0 True\n"
          ]
        }
      ]
    },
    {
      "cell_type": "code",
      "source": [
        "# 9. Type casting with list elements\n",
        "str_list = [\"1\", \"2\", \"3\"]\n",
        "int_list = list(map(int, str_list))\n",
        "print(int_list)"
      ],
      "metadata": {
        "colab": {
          "base_uri": "https://localhost:8080/"
        },
        "id": "rdjxlfrd0lDs",
        "outputId": "7fd9f471-423c-4784-ca5e-ac8114d7ab0f"
      },
      "execution_count": 14,
      "outputs": [
        {
          "output_type": "stream",
          "name": "stdout",
          "text": [
            "[1, 2, 3]\n"
          ]
        }
      ]
    },
    {
      "cell_type": "code",
      "source": [
        "# 10. Check if a number is positive, negative, or zero\n",
        "num = int(input(\"Enter a number: \"))\n",
        "if num > 0:\n",
        "    print(\"Positive\")\n",
        "elif num < 0:\n",
        "    print(\"Negative\")\n",
        "else:\n",
        "    print(\"Zero\")\n"
      ],
      "metadata": {
        "colab": {
          "base_uri": "https://localhost:8080/"
        },
        "id": "2pftGMew0lGt",
        "outputId": "8efb68fc-814d-4f5a-af32-e505964cb9c6"
      },
      "execution_count": 16,
      "outputs": [
        {
          "output_type": "stream",
          "name": "stdout",
          "text": [
            "Enter a number: 1\n",
            "Positive\n"
          ]
        }
      ]
    },
    {
      "cell_type": "code",
      "source": [
        "# 11. Print numbers from 1 to 100\n",
        "for i in range(1, 101):\n",
        "    print(i, end=\" \")"
      ],
      "metadata": {
        "colab": {
          "base_uri": "https://localhost:8080/"
        },
        "id": "uSjZEqRF3L4A",
        "outputId": "a756412c-b535-4bc8-94e6-a214dc25b254"
      },
      "execution_count": 17,
      "outputs": [
        {
          "output_type": "stream",
          "name": "stdout",
          "text": [
            "1 2 3 4 5 6 7 8 9 10 11 12 13 14 15 16 17 18 19 20 21 22 23 24 25 26 27 28 29 30 31 32 33 34 35 36 37 38 39 40 41 42 43 44 45 46 47 48 49 50 51 52 53 54 55 56 57 58 59 60 61 62 63 64 65 66 67 68 69 70 71 72 73 74 75 76 77 78 79 80 81 82 83 84 85 86 87 88 89 90 91 92 93 94 95 96 97 98 99 100 "
          ]
        }
      ]
    },
    {
      "cell_type": "code",
      "source": [
        "# 12. Sum of even numbers from 1 to 500\n",
        "print(sum(i for i in range(1, 501) if i % 2 == 0))"
      ],
      "metadata": {
        "colab": {
          "base_uri": "https://localhost:8080/"
        },
        "id": "JyaoujOh3L6C",
        "outputId": "db3e6ffc-bb8e-4eb6-deab-662802b1ffe6"
      },
      "execution_count": 18,
      "outputs": [
        {
          "output_type": "stream",
          "name": "stdout",
          "text": [
            "62750\n"
          ]
        }
      ]
    },
    {
      "cell_type": "code",
      "source": [
        "# 13. Reverse a string using a while loop\n",
        "s = \"Python\"\n",
        "reversed_s = \"\"\n",
        "i = len(s) - 1\n",
        "while i >= 0:\n",
        "    reversed_s += s[i]\n",
        "    i -= 1\n",
        "print(reversed_s)"
      ],
      "metadata": {
        "colab": {
          "base_uri": "https://localhost:8080/"
        },
        "id": "YKEttO4m3L-f",
        "outputId": "9a1f0f63-1d88-4a4a-ae71-523e2b9b3393"
      },
      "execution_count": 19,
      "outputs": [
        {
          "output_type": "stream",
          "name": "stdout",
          "text": [
            "nohtyP\n"
          ]
        }
      ]
    },
    {
      "cell_type": "code",
      "source": [
        "# 14. Factorial using while loop\n",
        "num = int(input(\"Enter a number: \"))\n",
        "fact = 1\n",
        "i = num\n",
        "while i > 0:\n",
        "    fact *= i\n",
        "    i -= 1\n",
        "print(f\"Factorial of {num} is {fact}\")"
      ],
      "metadata": {
        "id": "U23YSTqD3MBK"
      },
      "execution_count": null,
      "outputs": []
    },
    {
      "cell_type": "code",
      "source": [],
      "metadata": {
        "id": "m1hvVSBD3MEc"
      },
      "execution_count": null,
      "outputs": []
    }
  ]
}